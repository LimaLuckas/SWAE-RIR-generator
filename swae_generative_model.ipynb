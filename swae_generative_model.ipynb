{
 "cells": [
  {
   "cell_type": "code",
   "execution_count": 3,
   "id": "e762bfc8",
   "metadata": {},
   "outputs": [],
   "source": [
    "import torch\n",
    "import torch.nn as nn\n",
    "import torch.nn.functional as F\n",
    "import torchaudio\n",
    "import torchaudio.transforms as T\n",
    "import torchaudio.functional as F_audio\n",
    "from torch.utils.data import Dataset, DataLoader\n",
    "import os\n",
    "import numpy as np\n",
    "from tqdm import tqdm\n",
    "import matplotlib.pyplot as plt\n",
    "from read_data import RIRData\n",
    "from sklearn.model_selection import train_test_split"
   ]
  },
  {
   "cell_type": "code",
   "execution_count": 4,
   "id": "59e1bbaa",
   "metadata": {},
   "outputs": [
    {
     "name": "stdout",
     "output_type": "stream",
     "text": [
      "rirData Length =15202\n"
     ]
    }
   ],
   "source": [
    "data = RIRData(\"/home/lucas/ML/gtu-rir/RIR.pickle.dat\")\n",
    "\n",
    "all_rir_values = [entry[data.rir_data_field_numbers[\"rirData\"]] for entry in data.rir_data]\n"
   ]
  },
  {
   "cell_type": "code",
   "execution_count": null,
   "id": "f5461907",
   "metadata": {},
   "outputs": [
    {
     "name": "stdout",
     "output_type": "stream",
     "text": [
      "MFCC shape: torch.Size([20, 173])\n"
     ]
    }
   ],
   "source": [
    "# Get a list of all the MFCC for all the RIRs\n",
    "all_mfcc = []\n",
    "for i in range(len(all_rir_values)):\n",
    "    # Get the MFCC for the current RIR\n",
    "    mfcc = T.MFCC(\n",
    "        sample_rate=22050,\n",
    "        n_mfcc=20,\n",
    "        melkwargs={\"n_fft\": 2048, \"hop_length\": 512, \"n_mels\": 128},\n",
    "    )\n",
    "    mfcc_values = mfcc(torch.tensor(all_rir_values[i], dtype=torch.float32))\n",
    "    all_mfcc.append(mfcc_values)\n",
    "\n",
    "# print the shape of the MFCC values\n",
    "print(\"MFCC shape:\", all_mfcc[0].shape) # (20, 173)"
   ]
  },
  {
   "cell_type": "code",
   "execution_count": null,
   "id": "de6db672",
   "metadata": {},
   "outputs": [
    {
     "name": "stdout",
     "output_type": "stream",
     "text": [
      "Normalized MFCC shape: torch.Size([20, 173])\n"
     ]
    }
   ],
   "source": [
    "# normalize the MFCC values\n",
    "all_mfcc = [F.normalize(mfcc, p=2, dim=1) for mfcc in all_mfcc]\n",
    "# print the shape of the normalized MFCC values\n",
    "print(\"Normalized MFCC shape:\", all_mfcc[0].shape) # shape(20, 173)"
   ]
  },
  {
   "cell_type": "code",
   "execution_count": 11,
   "id": "3d858fbb",
   "metadata": {},
   "outputs": [
    {
     "name": "stdout",
     "output_type": "stream",
     "text": [
      "Training MFCC shape: torch.Size([20, 173])\n",
      "Testing MFCC shape: torch.Size([20, 173])\n"
     ]
    }
   ],
   "source": [
    "# Split the data into training and testing sets\n",
    "train_mfcc, test_mfcc = train_test_split(all_mfcc, test_size=0.2, random_state=42)\n",
    "# print the shapes of the training and testing sets\n",
    "print(\"Training MFCC shape:\", train_mfcc[0].shape)\n",
    "print(\"Testing MFCC shape:\", test_mfcc[0].shape)\n",
    "# Create a dataset class\n",
    "class RIRDataset(Dataset):\n",
    "    def __init__(self, mfcc_data):\n",
    "        self.mfcc_data = mfcc_data\n",
    "\n",
    "    def __len__(self):\n",
    "        return len(self.mfcc_data)\n",
    "\n",
    "    def __getitem__(self, idx):\n",
    "        return self.mfcc_data[idx]\n",
    "# Create the training and testing datasets\n",
    "train_dataset = RIRDataset(train_mfcc)\n",
    "test_dataset = RIRDataset(test_mfcc)\n",
    "# Create data loaders\n",
    "train_loader = DataLoader(train_dataset, batch_size=32, shuffle=True)\n",
    "test_loader = DataLoader(test_dataset, batch_size=32, shuffle=False)"
   ]
  }
 ],
 "metadata": {
  "kernelspec": {
   "display_name": "SWAE-RIR",
   "language": "python",
   "name": "python3"
  },
  "language_info": {
   "codemirror_mode": {
    "name": "ipython",
    "version": 3
   },
   "file_extension": ".py",
   "mimetype": "text/x-python",
   "name": "python",
   "nbconvert_exporter": "python",
   "pygments_lexer": "ipython3",
   "version": "3.13.3"
  }
 },
 "nbformat": 4,
 "nbformat_minor": 5
}
